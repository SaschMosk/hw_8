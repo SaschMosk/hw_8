{
 "cells": [
  {
   "cell_type": "code",
   "execution_count": 1,
   "metadata": {
    "collapsed": true
   },
   "outputs": [],
   "source": [
    "import requests\n",
    "import pandas as pd\n",
    "import numpy as np\n",
    "import matplotlib.pyplot as plt\n",
    "%matplotlib inline"
   ]
  },
  {
   "cell_type": "code",
   "execution_count": 3,
   "metadata": {
    "collapsed": false
   },
   "outputs": [],
   "source": [
    "from scipy.cluster.vq import whiten, kmeans, kmeans2"
   ]
  },
  {
   "cell_type": "code",
   "execution_count": 4,
   "metadata": {
    "collapsed": true
   },
   "outputs": [],
   "source": [
    "def call_api(uri, result_key):\n",
    "    json = {}\n",
    "    try:\n",
    "        json = requests.get(uri, headers = { 'X-Auth-Token': '77df605936cb498fad65ebd44ab77a8d' }).json()\n",
    "        return json[result_key]\n",
    "    except:\n",
    "        print(json)\n",
    "        return None"
   ]
  },
  {
   "cell_type": "code",
   "execution_count": 5,
   "metadata": {
    "collapsed": false
   },
   "outputs": [],
   "source": [
    "teams = call_api('http://api.football-data.org/v1/soccerseasons/439/teams', 'teams')"
   ]
  },
  {
   "cell_type": "code",
   "execution_count": 6,
   "metadata": {
    "collapsed": false
   },
   "outputs": [
    {
     "name": "stdout",
     "output_type": "stream",
     "text": [
      "Team \"FC Rio Ave\", 23 players, 35 goals, 12 loses, 40617.92 $\n",
      "Team \"FC Porto\", 26 players, 87 goals, 5 loses, 177447.48 $\n",
      "Team \"Moreirense FC\", 25 players, 26 goals, 15 loses, 178879.88 $\n",
      "Team \"FC Paços de Ferreira\", 31 players, 30 goals, 15 loses, 188626.47 $\n",
      "Team \"Sporting CP\", 27 players, 63 goals, 6 loses, 211564.07 $\n",
      "Team \"Maritimo Funchal\", 28 players, 32 goals, 10 loses, 310677.25 $\n",
      "Team \"CD Tondela\", 26 players, 33 goals, 14 loses, 95005.52 $\n",
      "Team \"SL Benfica\", 24 players, 76 goals, 7 loses, 229454.09 $\n",
      "Team \"Boavista Porto FC\", 29 players, 29 goals, 14 loses, 270326.49 $\n",
      "Team \"FC Arouca\", 21 players, 0 goals, 0 loses, 311976.46 $\n",
      "Team \"Vitoria Setubal\", 28 players, 35 goals, 13 loses, 227594.98 $\n",
      "Team \"C.F. Os Belenenses\", 25 players, 26 goals, 12 loses, 53756.93 $\n",
      "Team \"Vitoria Guimaraes\", 30 players, 38 goals, 15 loses, 129739.12 $\n",
      "Team \"Sporting Braga\", 24 players, 65 goals, 6 loses, 167260.63 $\n",
      "Team \"GD Estoril Praia\", 29 players, 25 goals, 18 loses, 84924.61 $\n",
      "Team \"Feirense\", 29 players, 27 goals, 19 loses, 162896.94 $\n",
      "Team \"Nacional Funchal\", 18 players, 0 goals, 0 loses, 66837.09 $\n",
      "Team \"G.D. Chaves\", 22 players, 34 goals, 12 loses, 259205.41 $\n"
     ]
    }
   ],
   "source": [
    "for team in teams:\n",
    "    players = call_api(team['_links']['players']['href'], 'players')\n",
    "    fixtures = call_api(team['_links']['fixtures']['href'], 'fixtures')\n",
    "    goals = 0\n",
    "    loses = 0\n",
    "    MarketValue = team['squadMarketValue']\n",
    "    for f in fixtures:\n",
    "        if team['name'] == f['homeTeamName']:\n",
    "            goals += f['result']['goalsHomeTeam'] if f['result']['goalsHomeTeam'] else 0\n",
    "        else:\n",
    "            goals += f['result']['goalsAwayTeam'] if f['result']['goalsAwayTeam'] else 0\n",
    "    for f in fixtures:\n",
    "        if (f['result'][\"goalsHomeTeam\"] != None) & (f['result']['goalsAwayTeam'] != None):\n",
    "            if (team['name'] == f['homeTeamName']) & (f['result'][\"goalsHomeTeam\"] < f['result']['goalsAwayTeam']):\n",
    "                loses += 1\n",
    "            elif (team['name'] == f['awayTeamName']) & (f['result'][\"goalsHomeTeam\"] > f['result']['goalsAwayTeam']):\n",
    "                loses +=1\n",
    "    team['players'] = players\n",
    "    team['goals'] = goals\n",
    "    team['MarketValue'] = round(np.random.normal(200000, 75000), 2)\n",
    "    team['loses'] = loses\n",
    "    print('Team \"{}\", {} players, {} goals, {} loses, {} $'.format(team['name'], len(team['players']), team['goals'], \n",
    "                                                                   team['loses'], team['MarketValue']))"
   ]
  },
  {
   "cell_type": "code",
   "execution_count": 7,
   "metadata": {
    "collapsed": false
   },
   "outputs": [
    {
     "data": {
      "text/plain": [
       "[{'goals': 35,\n",
       "  'loses': 12,\n",
       "  'marketValue': 40617.92,\n",
       "  'name': 'FC Rio Ave',\n",
       "  'players': 23},\n",
       " {'goals': 87,\n",
       "  'loses': 5,\n",
       "  'marketValue': 177447.48,\n",
       "  'name': 'FC Porto',\n",
       "  'players': 26},\n",
       " {'goals': 26,\n",
       "  'loses': 15,\n",
       "  'marketValue': 178879.88,\n",
       "  'name': 'Moreirense FC',\n",
       "  'players': 25},\n",
       " {'goals': 30,\n",
       "  'loses': 15,\n",
       "  'marketValue': 188626.47,\n",
       "  'name': 'FC Paços de Ferreira',\n",
       "  'players': 31},\n",
       " {'goals': 63,\n",
       "  'loses': 6,\n",
       "  'marketValue': 211564.07,\n",
       "  'name': 'Sporting CP',\n",
       "  'players': 27},\n",
       " {'goals': 32,\n",
       "  'loses': 10,\n",
       "  'marketValue': 310677.25,\n",
       "  'name': 'Maritimo Funchal',\n",
       "  'players': 28},\n",
       " {'goals': 33,\n",
       "  'loses': 14,\n",
       "  'marketValue': 95005.52,\n",
       "  'name': 'CD Tondela',\n",
       "  'players': 26},\n",
       " {'goals': 76,\n",
       "  'loses': 7,\n",
       "  'marketValue': 229454.09,\n",
       "  'name': 'SL Benfica',\n",
       "  'players': 24},\n",
       " {'goals': 29,\n",
       "  'loses': 14,\n",
       "  'marketValue': 270326.49,\n",
       "  'name': 'Boavista Porto FC',\n",
       "  'players': 29},\n",
       " {'goals': 0,\n",
       "  'loses': 0,\n",
       "  'marketValue': 311976.46,\n",
       "  'name': 'FC Arouca',\n",
       "  'players': 21},\n",
       " {'goals': 35,\n",
       "  'loses': 13,\n",
       "  'marketValue': 227594.98,\n",
       "  'name': 'Vitoria Setubal',\n",
       "  'players': 28},\n",
       " {'goals': 26,\n",
       "  'loses': 12,\n",
       "  'marketValue': 53756.93,\n",
       "  'name': 'C.F. Os Belenenses',\n",
       "  'players': 25},\n",
       " {'goals': 38,\n",
       "  'loses': 15,\n",
       "  'marketValue': 129739.12,\n",
       "  'name': 'Vitoria Guimaraes',\n",
       "  'players': 30},\n",
       " {'goals': 65,\n",
       "  'loses': 6,\n",
       "  'marketValue': 167260.63,\n",
       "  'name': 'Sporting Braga',\n",
       "  'players': 24},\n",
       " {'goals': 25,\n",
       "  'loses': 18,\n",
       "  'marketValue': 84924.61,\n",
       "  'name': 'GD Estoril Praia',\n",
       "  'players': 29},\n",
       " {'goals': 27,\n",
       "  'loses': 19,\n",
       "  'marketValue': 162896.94,\n",
       "  'name': 'Feirense',\n",
       "  'players': 29},\n",
       " {'goals': 0,\n",
       "  'loses': 0,\n",
       "  'marketValue': 66837.09,\n",
       "  'name': 'Nacional Funchal',\n",
       "  'players': 18},\n",
       " {'goals': 34,\n",
       "  'loses': 12,\n",
       "  'marketValue': 259205.41,\n",
       "  'name': 'G.D. Chaves',\n",
       "  'players': 22}]"
      ]
     },
     "execution_count": 7,
     "metadata": {},
     "output_type": "execute_result"
    }
   ],
   "source": [
    "team_for_pd = []\n",
    "for team in teams:\n",
    "    if team['players']:\n",
    "        team_for_pd.append({'name': team['name'], 'players': len(team['players']), 'goals': team['goals'], \n",
    "                            'marketValue': team['MarketValue'], 'loses': team['loses']})\n",
    "team_for_pd"
   ]
  },
  {
   "cell_type": "code",
   "execution_count": 8,
   "metadata": {
    "collapsed": false
   },
   "outputs": [
    {
     "data": {
      "text/html": [
       "<div>\n",
       "<table border=\"1\" class=\"dataframe\">\n",
       "  <thead>\n",
       "    <tr style=\"text-align: right;\">\n",
       "      <th></th>\n",
       "      <th>goals</th>\n",
       "      <th>loses</th>\n",
       "      <th>marketValue</th>\n",
       "      <th>name</th>\n",
       "      <th>players</th>\n",
       "    </tr>\n",
       "  </thead>\n",
       "  <tbody>\n",
       "    <tr>\n",
       "      <th>0</th>\n",
       "      <td>35</td>\n",
       "      <td>12</td>\n",
       "      <td>40617.92</td>\n",
       "      <td>FC Rio Ave</td>\n",
       "      <td>23</td>\n",
       "    </tr>\n",
       "    <tr>\n",
       "      <th>1</th>\n",
       "      <td>87</td>\n",
       "      <td>5</td>\n",
       "      <td>177447.48</td>\n",
       "      <td>FC Porto</td>\n",
       "      <td>26</td>\n",
       "    </tr>\n",
       "    <tr>\n",
       "      <th>2</th>\n",
       "      <td>26</td>\n",
       "      <td>15</td>\n",
       "      <td>178879.88</td>\n",
       "      <td>Moreirense FC</td>\n",
       "      <td>25</td>\n",
       "    </tr>\n",
       "    <tr>\n",
       "      <th>3</th>\n",
       "      <td>30</td>\n",
       "      <td>15</td>\n",
       "      <td>188626.47</td>\n",
       "      <td>FC Paços de Ferreira</td>\n",
       "      <td>31</td>\n",
       "    </tr>\n",
       "    <tr>\n",
       "      <th>4</th>\n",
       "      <td>63</td>\n",
       "      <td>6</td>\n",
       "      <td>211564.07</td>\n",
       "      <td>Sporting CP</td>\n",
       "      <td>27</td>\n",
       "    </tr>\n",
       "    <tr>\n",
       "      <th>5</th>\n",
       "      <td>32</td>\n",
       "      <td>10</td>\n",
       "      <td>310677.25</td>\n",
       "      <td>Maritimo Funchal</td>\n",
       "      <td>28</td>\n",
       "    </tr>\n",
       "    <tr>\n",
       "      <th>6</th>\n",
       "      <td>33</td>\n",
       "      <td>14</td>\n",
       "      <td>95005.52</td>\n",
       "      <td>CD Tondela</td>\n",
       "      <td>26</td>\n",
       "    </tr>\n",
       "    <tr>\n",
       "      <th>7</th>\n",
       "      <td>76</td>\n",
       "      <td>7</td>\n",
       "      <td>229454.09</td>\n",
       "      <td>SL Benfica</td>\n",
       "      <td>24</td>\n",
       "    </tr>\n",
       "    <tr>\n",
       "      <th>8</th>\n",
       "      <td>29</td>\n",
       "      <td>14</td>\n",
       "      <td>270326.49</td>\n",
       "      <td>Boavista Porto FC</td>\n",
       "      <td>29</td>\n",
       "    </tr>\n",
       "    <tr>\n",
       "      <th>9</th>\n",
       "      <td>0</td>\n",
       "      <td>0</td>\n",
       "      <td>311976.46</td>\n",
       "      <td>FC Arouca</td>\n",
       "      <td>21</td>\n",
       "    </tr>\n",
       "  </tbody>\n",
       "</table>\n",
       "</div>"
      ],
      "text/plain": [
       "   goals  loses  marketValue                  name  players\n",
       "0     35     12     40617.92            FC Rio Ave       23\n",
       "1     87      5    177447.48              FC Porto       26\n",
       "2     26     15    178879.88         Moreirense FC       25\n",
       "3     30     15    188626.47  FC Paços de Ferreira       31\n",
       "4     63      6    211564.07           Sporting CP       27\n",
       "5     32     10    310677.25      Maritimo Funchal       28\n",
       "6     33     14     95005.52            CD Tondela       26\n",
       "7     76      7    229454.09            SL Benfica       24\n",
       "8     29     14    270326.49     Boavista Porto FC       29\n",
       "9      0      0    311976.46             FC Arouca       21"
      ]
     },
     "execution_count": 8,
     "metadata": {},
     "output_type": "execute_result"
    }
   ],
   "source": [
    "teams_pd = pd.DataFrame(team_for_pd)\n",
    "teams_pd.head(10)"
   ]
  },
  {
   "cell_type": "code",
   "execution_count": 9,
   "metadata": {
    "collapsed": false
   },
   "outputs": [
    {
     "data": {
      "text/plain": [
       "<matplotlib.axes._subplots.AxesSubplot at 0x2789650>"
      ]
     },
     "execution_count": 9,
     "metadata": {},
     "output_type": "execute_result"
    },
    {
     "data": {
      "image/png": "[encoded data removed]",
      "text/plain": [
       "<matplotlib.figure.Figure at 0x27888f0>"
      ]
     },
     "metadata": {},
     "output_type": "display_data"
    }
   ],
   "source": [
    "teams_pd.plot.scatter(x='marketValue', y='loses', s=100)"
   ]
  },
  {
   "cell_type": "code",
   "execution_count": 10,
   "metadata": {
    "collapsed": false
   },
   "outputs": [
    {
     "data": {
      "text/html": [
       "<div>\n",
       "<table border=\"1\" class=\"dataframe\">\n",
       "  <thead>\n",
       "    <tr style=\"text-align: right;\">\n",
       "      <th></th>\n",
       "      <th>loses</th>\n",
       "      <th>marketValue</th>\n",
       "    </tr>\n",
       "  </thead>\n",
       "  <tbody>\n",
       "    <tr>\n",
       "      <th>0</th>\n",
       "      <td>12</td>\n",
       "      <td>40617.92</td>\n",
       "    </tr>\n",
       "    <tr>\n",
       "      <th>1</th>\n",
       "      <td>5</td>\n",
       "      <td>177447.48</td>\n",
       "    </tr>\n",
       "    <tr>\n",
       "      <th>2</th>\n",
       "      <td>15</td>\n",
       "      <td>178879.88</td>\n",
       "    </tr>\n",
       "    <tr>\n",
       "      <th>3</th>\n",
       "      <td>15</td>\n",
       "      <td>188626.47</td>\n",
       "    </tr>\n",
       "    <tr>\n",
       "      <th>4</th>\n",
       "      <td>6</td>\n",
       "      <td>211564.07</td>\n",
       "    </tr>\n",
       "    <tr>\n",
       "      <th>5</th>\n",
       "      <td>10</td>\n",
       "      <td>310677.25</td>\n",
       "    </tr>\n",
       "    <tr>\n",
       "      <th>6</th>\n",
       "      <td>14</td>\n",
       "      <td>95005.52</td>\n",
       "    </tr>\n",
       "    <tr>\n",
       "      <th>7</th>\n",
       "      <td>7</td>\n",
       "      <td>229454.09</td>\n",
       "    </tr>\n",
       "    <tr>\n",
       "      <th>8</th>\n",
       "      <td>14</td>\n",
       "      <td>270326.49</td>\n",
       "    </tr>\n",
       "    <tr>\n",
       "      <th>9</th>\n",
       "      <td>0</td>\n",
       "      <td>311976.46</td>\n",
       "    </tr>\n",
       "    <tr>\n",
       "      <th>10</th>\n",
       "      <td>13</td>\n",
       "      <td>227594.98</td>\n",
       "    </tr>\n",
       "    <tr>\n",
       "      <th>11</th>\n",
       "      <td>12</td>\n",
       "      <td>53756.93</td>\n",
       "    </tr>\n",
       "    <tr>\n",
       "      <th>12</th>\n",
       "      <td>15</td>\n",
       "      <td>129739.12</td>\n",
       "    </tr>\n",
       "    <tr>\n",
       "      <th>13</th>\n",
       "      <td>6</td>\n",
       "      <td>167260.63</td>\n",
       "    </tr>\n",
       "    <tr>\n",
       "      <th>14</th>\n",
       "      <td>18</td>\n",
       "      <td>84924.61</td>\n",
       "    </tr>\n",
       "    <tr>\n",
       "      <th>15</th>\n",
       "      <td>19</td>\n",
       "      <td>162896.94</td>\n",
       "    </tr>\n",
       "    <tr>\n",
       "      <th>16</th>\n",
       "      <td>0</td>\n",
       "      <td>66837.09</td>\n",
       "    </tr>\n",
       "    <tr>\n",
       "      <th>17</th>\n",
       "      <td>12</td>\n",
       "      <td>259205.41</td>\n",
       "    </tr>\n",
       "  </tbody>\n",
       "</table>\n",
       "</div>"
      ],
      "text/plain": [
       "    loses  marketValue\n",
       "0      12     40617.92\n",
       "1       5    177447.48\n",
       "2      15    178879.88\n",
       "3      15    188626.47\n",
       "4       6    211564.07\n",
       "5      10    310677.25\n",
       "6      14     95005.52\n",
       "7       7    229454.09\n",
       "8      14    270326.49\n",
       "9       0    311976.46\n",
       "10     13    227594.98\n",
       "11     12     53756.93\n",
       "12     15    129739.12\n",
       "13      6    167260.63\n",
       "14     18     84924.61\n",
       "15     19    162896.94\n",
       "16      0     66837.09\n",
       "17     12    259205.41"
      ]
     },
     "execution_count": 10,
     "metadata": {},
     "output_type": "execute_result"
    }
   ],
   "source": [
    "del teams_pd['name'], teams_pd['players'], teams_pd['goals']\n",
    "teams_pd"
   ]
  },
  {
   "cell_type": "code",
   "execution_count": 11,
   "metadata": {
    "collapsed": false
   },
   "outputs": [
    {
     "data": {
      "text/plain": [
       "array([[ 2.2122742 ,  0.49370889],\n",
       "       [ 0.92178092,  2.15686568],\n",
       "       [ 2.76534275,  2.17427643],\n",
       "       [ 2.76534275,  2.29274577],\n",
       "       [ 1.1061371 ,  2.57155121],\n",
       "       [ 1.84356183,  3.7762672 ],\n",
       "       [ 2.58098657,  1.15478758],\n",
       "       [ 1.29049328,  2.78900355],\n",
       "       [ 2.58098657,  3.28580563],\n",
       "       [ 0.        ,  3.79205903],\n",
       "       [ 2.39663038,  2.76640616],\n",
       "       [ 2.2122742 ,  0.65341293],\n",
       "       [ 2.76534275,  1.57697283],\n",
       "       [ 1.1061371 ,  2.033045  ],\n",
       "       [ 3.3184113 ,  1.0322546 ],\n",
       "       [ 3.50276748,  1.98000456],\n",
       "       [ 0.        ,  0.81240165],\n",
       "       [ 2.2122742 ,  3.15062943]])"
      ]
     },
     "execution_count": 11,
     "metadata": {},
     "output_type": "execute_result"
    }
   ],
   "source": [
    "whitened = whiten(teams_pd.as_matrix())\n",
    "whitened"
   ]
  },
  {
   "cell_type": "code",
   "execution_count": 12,
   "metadata": {
    "collapsed": false
   },
   "outputs": [
    {
     "data": {
      "text/plain": [
       "(array([[ 0.        ,  0.81240165],\n",
       "        [ 1.49533349,  2.92462588],\n",
       "        [ 2.76534275,  1.41977045]]),\n",
       " array([2, 1, 2, 2, 1, 1, 2, 1, 1, 1, 1, 2, 2, 1, 2, 2, 0, 1]))"
      ]
     },
     "execution_count": 12,
     "metadata": {},
     "output_type": "execute_result"
    }
   ],
   "source": [
    "centroids, cluster_map = kmeans2(whitened, 3)\n",
    "centroids, cluster_map"
   ]
  },
  {
   "cell_type": "code",
   "execution_count": 13,
   "metadata": {
    "collapsed": false
   },
   "outputs": [],
   "source": [
    "colors_map = {0: 'r', 1: 'g', 2: 'b', 3: 'y', 4: 'm'}\n",
    "colors = [colors_map[c] for c in cluster_map]"
   ]
  },
  {
   "cell_type": "code",
   "execution_count": 14,
   "metadata": {
    "collapsed": false
   },
   "outputs": [
    {
     "data": {
      "text/plain": [
       "<matplotlib.axes._subplots.AxesSubplot at 0x2dc5790>"
      ]
     },
     "execution_count": 14,
     "metadata": {},
     "output_type": "execute_result"
    },
    {
     "data": {
      "image/png": "[encoded data removed]",
      "text/plain": [
       "<matplotlib.figure.Figure at 0x2d78c70>"
      ]
     },
     "metadata": {},
     "output_type": "display_data"
    }
   ],
   "source": [
    "teams_pd.plot.scatter(x='marketValue', y='loses', c=colors, s=100)"
   ]
  },
  {
   "cell_type": "code",
   "execution_count": 15,
   "metadata": {
    "collapsed": false
   },
   "outputs": [
    {
     "data": {
      "text/plain": [
       "(array([[ 0.        ,  3.79205903],\n",
       "        [ 2.6178578 ,  0.98222736],\n",
       "        [ 2.2122742 ,  3.40423409],\n",
       "        [ 2.85752084,  2.30335823],\n",
       "        [ 0.88490968,  2.07257342]]),\n",
       " array([1, 4, 3, 3, 4, 2, 1, 4, 2, 0, 3, 1, 1, 4, 1, 3, 4, 2]))"
      ]
     },
     "execution_count": 15,
     "metadata": {},
     "output_type": "execute_result"
    }
   ],
   "source": [
    "centroids, cluster_map = kmeans2(whitened, 5)\n",
    "centroids, cluster_map"
   ]
  },
  {
   "cell_type": "code",
   "execution_count": 16,
   "metadata": {
    "collapsed": true
   },
   "outputs": [],
   "source": [
    "colors_map = {0: 'r', 1: 'g', 2: 'b', 3: 'y', 4: 'm'}\n",
    "colors = [colors_map[c] for c in cluster_map]"
   ]
  },
  {
   "cell_type": "code",
   "execution_count": 17,
   "metadata": {
    "collapsed": false
   },
   "outputs": [
    {
     "data": {
      "text/plain": [
       "<matplotlib.axes._subplots.AxesSubplot at 0x27a2a90>"
      ]
     },
     "execution_count": 17,
     "metadata": {},
     "output_type": "execute_result"
    },
    {
     "data": {
      "image/png": "[encoded data removed]",
      "text/plain": [
       "<matplotlib.figure.Figure at 0x2de1630>"
      ]
     },
     "metadata": {},
     "output_type": "display_data"
    }
   ],
   "source": [
    "teams_pd.plot.scatter(x='marketValue', y='loses', c=colors, s=100)"
   ]
  }
 ],
 "metadata": {
  "kernelspec": {
   "display_name": "Python 3",
   "language": "python",
   "name": "python3"
  },
  "language_info": {
   "codemirror_mode": {
    "name": "ipython",
    "version": 3
   },
   "file_extension": ".py",
   "mimetype": "text/x-python",
   "name": "python",
   "nbconvert_exporter": "python",
   "pygments_lexer": "ipython3",
   "version": "3.5.1"
  }
 },
 "nbformat": 4,
 "nbformat_minor": 0
}
