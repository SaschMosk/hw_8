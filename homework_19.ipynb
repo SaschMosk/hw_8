{
 "cells": [
  {
   "cell_type": "code",
   "execution_count": null,
   "metadata": {
    "collapsed": true
   },
   "outputs": [],
   "source": [
    "import pandas as pd\n",
    "import os"
   ]
  },
  {
   "cell_type": "code",
   "execution_count": null,
   "metadata": {},
   "outputs": [],
   "source": [
    "data_path = f'{os.getcwd()}\\\\names\\\\'"
   ]
  },
  {
   "cell_type": "code",
   "execution_count": null,
   "metadata": {},
   "outputs": [],
   "source": [
    "def calculate_top_3(years):\n",
    "    names_list = []\n",
    "    cols = ['Name', 'Gender', 'Count']\n",
    "    for i in years:\n",
    "        i = pd.read_csv(data_path + 'yob' + str(i) + '.txt', names=cols)\n",
    "        names_list.append(i)\n",
    "    names_all = pd.concat(names_list)\n",
    "    names_groups = names_all.groupby('Name').sum()\n",
    "    return names_groups.sort_values(by='Count', ascending=False).head(3)"
   ]
  },
  {
   "cell_type": "code",
   "execution_count": null,
   "metadata": {},
   "outputs": [],
   "source": [
    "def get_top_3():\n",
    "    years = input('Введите года для расчёта через запятую (из промежутка от 1880 до 2016): ').split(', ')\n",
    "    calculate_top_3(years)\n",
    "get_top_3()"
   ]
  },
  {
   "cell_type": "code",
   "execution_count": null,
   "metadata": {},
   "outputs": [],
   "source": [
    "def calculate_number(years):\n",
    "    names_list = []\n",
    "    cols = ['Name', 'Gender', 'Count']\n",
    "    for i in years:\n",
    "        i = pd.read_csv(data_path + 'yob' + str(i) + '.txt', names=cols)\n",
    "        names_list.append(i)\n",
    "    names_by_gender = dict()\n",
    "    Male = []\n",
    "    Female = []\n",
    "    for i in names_list:\n",
    "        Male.append(i[i.Gender == 'M'].Count.sum())\n",
    "        Female.append(i[i.Gender == 'F'].Count.sum())\n",
    "        names_by_gender[\"M\"] = Male\n",
    "        names_by_gender['F'] = Female\n",
    "    return names_by_gender"
   ]
  },
  {
   "cell_type": "code",
   "execution_count": null,
   "metadata": {},
   "outputs": [],
   "source": [
    "def get_number_by_gender():\n",
    "    years = input('Введите года для расчёта через запятую (из промежутка от 1880 до 2016): ').split(', ')\n",
    "    calculate_number(years)\n",
    "\n",
    "get_number_by_gender()"
   ]
  }
 ],
 "metadata": {
  "kernelspec": {
   "display_name": "Python 2",
   "language": "python",
   "name": "python2"
  },
  "language_info": {
   "codemirror_mode": {
    "name": "ipython",
    "version": 2
   },
   "file_extension": ".py",
   "mimetype": "text/x-python",
   "name": "python",
   "nbconvert_exporter": "python",
   "pygments_lexer": "ipython2",
   "version": "2.7.6"
  }
 },
 "nbformat": 4,
 "nbformat_minor": 0
}
